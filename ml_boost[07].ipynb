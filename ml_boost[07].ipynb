{
 "cells": [
  {
   "cell_type": "markdown",
   "metadata": {},
   "source": [
    "### 부스팅(Boosting)\n",
    "- 부스팅 알고리즘은 여러 개의 약한 학습기(weak learner)를 순차적으로 학습, 예측하면서 잘못 예측한 데이터에 가중치 부여를 통해 오류를 개선해 나가면서 학습하는 방식\n",
    "- 부스팅의 대표적인 구현은 AdaBoost(Adaptive boosting)와 그래디언트 부스트가 있습니다."
   ]
  },
  {
   "cell_type": "code",
   "execution_count": 2,
   "metadata": {},
   "outputs": [],
   "source": [
    "import pandas as pd\n",
    "import numpy as np\n",
    "import matplotlib.pyplot as plt\n",
    "%matplotlib inline\n",
    "import warnings\n",
    "warnings.filterwarnings('ignore')\n",
    "import seaborn as sns\n",
    "from sklearn.datasets import load_iris\n",
    "import missingno as ms\n",
    "\n",
    "# 1. 사용할 학습기 정하기\n",
    "from sklearn.tree import DecisionTreeClassifier\n",
    "from sklearn.linear_model import LogisticRegression\n",
    "from sklearn.ensemble import RandomForestClassifier\n",
    "\n",
    "# ensemble 넣어주기\n",
    "from sklearn.neighbors import KNeighborsClassifier\n",
    "from sklearn.ensemble import VotingClassifier\n",
    "\n",
    "from sklearn.datasets import load_breast_cancer\n",
    "\n",
    "# 2. preprocessing + model_selection\n",
    "from sklearn.preprocessing import LabelEncoder, OneHotEncoder, StandardScaler, MinMaxScaler, Binarizer\n",
    "from sklearn.model_selection import train_test_split, KFold, GridSearchCV,cross_val_score, cross_validate\n",
    "\n",
    "# 3. 평가지표\n",
    "from sklearn.metrics import accuracy_score, precision_score, recall_score, f1_score, roc_auc_score\n",
    "from sklearn.metrics import confusion_matrix, precision_recall_curve, roc_curve\n"
   ]
  },
  {
   "cell_type": "markdown",
   "metadata": {},
   "source": [
    "### AdaBoost\n",
    "- 정의 : 약한 학습기를 순차적으로 학습시켜, 개별 학습기에 가중치를 부여하여 결합한 모델을 생성"
   ]
  },
  {
   "cell_type": "code",
   "execution_count": 6,
   "metadata": {},
   "outputs": [],
   "source": [
    "def get_new_feature_name_df(old_feature_name_df):\n",
    "    feature_dup_df = pd.DataFrame(data=old_feature_name_df.groupby('column_name').cumcount(), columns=['dup_cnt'])\n",
    "    feature_dup_df = feature_dup_df.reset_index()\n",
    "    new_feature_name_df = pd.merge(old_feature_name_df.reset_index(), feature_dup_df, how='outer')\n",
    "    new_feature_name_df['column_name'] = new_feature_name_df[['column_name', 'dup_cnt']].apply(lambda x : x[0]+'_'+str(x[1]) \n",
    "                                                                                           if x[1] >0 else x[0] ,  axis=1)\n",
    "    new_feature_name_df = new_feature_name_df.drop(['index'], axis=1)\n",
    "    return new_feature_name_df\n"
   ]
  },
  {
   "cell_type": "code",
   "execution_count": 9,
   "metadata": {},
   "outputs": [],
   "source": [
    "def human_activity_dataset():\n",
    "\n",
    "    # HAR 데이터를 이용해서 RandomForest 배깅을 이용한 분류예측\n",
    "    # 각 데이터 파일들은 공백으로 분리되어 있으므로 read_csv에서 공백문자를 sep으로 할당\n",
    "    feature_name_df = pd.read_csv('./data/features.txt', sep='\\s+',\n",
    "                                                         header=None, names=['column_index', 'column_name'])\n",
    "    feature_name_df.head()\n",
    "\n",
    "    # 중복 피처에 대한 에러처리 구문\n",
    "    new_feature_name_df = get_new_feature_name_df(feature_name_df)\n",
    "    new_feature_name_df.head()\n",
    "\n",
    "\n",
    "    # 데이터프레임에 피처명을 컬럼으로 뷰어하기 위해 리스트 객체로 다시 반환\n",
    "    feature_name = new_feature_name_df.iloc[:,1].values.tolist()\n",
    "    feature_name\n",
    "\n",
    "    # 학습 피처 데이터세트와 테스트 피처 데이터를 데이터프레임으로 로딩\n",
    "    # 컬럼명은 feature_name 적용\n",
    "    # X_train = pd.read_Csv('.data/train/X_train.txt')\n",
    "    #     X_train = pd.read_csv('./data/train/X_train.txt', sep='\\s+', names=feature_name)\n",
    "    #     X_test = pd.read_csv('./data/test/X_test.txt', sep='\\s+', names=feature_name)\n",
    "\n",
    "    X_train = pd.read_csv('./data/train/X_train.txt', sep='\\s+', header=None, names=feature_name)\n",
    "    #X_train.head()\n",
    "\n",
    "    X_test = pd.read_csv('./data/test/X_test.txt', sep='\\s+', header=None, names=feature_name)\n",
    "\n",
    "    # 학습 레이블과 테스트 레이블 데이터를 데이터 프레임으로 로딩, 컬럼명은 action으로 부여\n",
    "    y_train = pd.read_csv('./data/train/y_train.txt', sep='\\s+', names=['action'])\n",
    "    y_test = pd.read_csv('./data/test/y_test.txt', sep='\\s+', names=['action'])\n",
    "    \n",
    "    return X_train, X_test, y_train, y_test\n"
   ]
  },
  {
   "cell_type": "code",
   "execution_count": 10,
   "metadata": {},
   "outputs": [],
   "source": [
    "X_train, X_test, y_train, y_test = human_activity_dataset()"
   ]
  },
  {
   "cell_type": "markdown",
   "metadata": {},
   "source": [
    "n_estimators와 learning_rate는 트레이드-오프 관계"
   ]
  },
  {
   "cell_type": "code",
   "execution_count": 12,
   "metadata": {},
   "outputs": [],
   "source": [
    "from sklearn.ensemble import AdaBoostClassifier"
   ]
  },
  {
   "cell_type": "code",
   "execution_count": 13,
   "metadata": {},
   "outputs": [
    {
     "name": "stderr",
     "output_type": "stream",
     "text": [
      "C:\\Users\\i\\Anaconda3\\lib\\site-packages\\sklearn\\utils\\validation.py:578: DataConversionWarning: A column-vector y was passed when a 1d array was expected. Please change the shape of y to (n_samples, ), for example using ravel().\n",
      "  y = column_or_1d(y, warn=True)\n"
     ]
    },
    {
     "name": "stdout",
     "output_type": "stream",
     "text": [
      "예측 정확도:  0.7638276213098066\n"
     ]
    }
   ],
   "source": [
    "ada_model = AdaBoostClassifier(random_state = 0,\n",
    "                               n_estimators = 70,\n",
    "                               learning_rate = 0.5)\n",
    "\n",
    "ada_model.fit(X_train, y_train)\n",
    "y_pred = ada_model.predict(X_test)\n",
    "\n",
    "print('예측 정확도: ', accuracy_score(y_test, y_pred))"
   ]
  },
  {
   "cell_type": "code",
   "execution_count": 17,
   "metadata": {},
   "outputs": [
    {
     "name": "stderr",
     "output_type": "stream",
     "text": [
      "C:\\Users\\i\\Anaconda3\\lib\\site-packages\\sklearn\\utils\\validation.py:578: DataConversionWarning: A column-vector y was passed when a 1d array was expected. Please change the shape of y to (n_samples, ), for example using ravel().\n",
      "  y = column_or_1d(y, warn=True)\n"
     ]
    },
    {
     "name": "stdout",
     "output_type": "stream",
     "text": [
      "예측 정확도:  0.6396335256192739\n"
     ]
    }
   ],
   "source": [
    "ada_model = AdaBoostClassifier(random_state = 0,\n",
    "                               n_estimators = 70,\n",
    "                               learning_rate = 0.3)\n",
    "\n",
    "ada_model.fit(X_train, y_train)\n",
    "y_pred = ada_model.predict(X_test)\n",
    "\n",
    "print('예측 정확도: ', accuracy_score(y_test, y_pred))"
   ]
  },
  {
   "cell_type": "code",
   "execution_count": 18,
   "metadata": {},
   "outputs": [
    {
     "name": "stderr",
     "output_type": "stream",
     "text": [
      "C:\\Users\\i\\Anaconda3\\lib\\site-packages\\sklearn\\utils\\validation.py:578: DataConversionWarning: A column-vector y was passed when a 1d array was expected. Please change the shape of y to (n_samples, ), for example using ravel().\n",
      "  y = column_or_1d(y, warn=True)\n"
     ]
    },
    {
     "name": "stdout",
     "output_type": "stream",
     "text": [
      "예측 정확도:  0.7695961995249406\n"
     ]
    }
   ],
   "source": [
    "ada_model = AdaBoostClassifier(random_state = 0,\n",
    "                               n_estimators = 70,\n",
    "                               learning_rate = 0.4)\n",
    "\n",
    "ada_model.fit(X_train, y_train)\n",
    "y_pred = ada_model.predict(X_test)\n",
    "\n",
    "print('예측 정확도: ', accuracy_score(y_test, y_pred))"
   ]
  },
  {
   "cell_type": "code",
   "execution_count": 20,
   "metadata": {},
   "outputs": [
    {
     "name": "stderr",
     "output_type": "stream",
     "text": [
      "C:\\Users\\i\\Anaconda3\\lib\\site-packages\\sklearn\\utils\\validation.py:578: DataConversionWarning: A column-vector y was passed when a 1d array was expected. Please change the shape of y to (n_samples, ), for example using ravel().\n",
      "  y = column_or_1d(y, warn=True)\n"
     ]
    },
    {
     "name": "stdout",
     "output_type": "stream",
     "text": [
      "예측 정확도:  0.7475398710553105\n"
     ]
    }
   ],
   "source": [
    "ada_model = AdaBoostClassifier(random_state = 0,\n",
    "                               n_estimators = 75,\n",
    "                               learning_rate = 0.4)\n",
    "\n",
    "ada_model.fit(X_train, y_train)\n",
    "y_pred = ada_model.predict(X_test)\n",
    "\n",
    "print('예측 정확도: ', accuracy_score(y_test, y_pred))"
   ]
  },
  {
   "cell_type": "code",
   "execution_count": 22,
   "metadata": {},
   "outputs": [
    {
     "name": "stderr",
     "output_type": "stream",
     "text": [
      "C:\\Users\\i\\Anaconda3\\lib\\site-packages\\sklearn\\utils\\validation.py:578: DataConversionWarning: A column-vector y was passed when a 1d array was expected. Please change the shape of y to (n_samples, ), for example using ravel().\n",
      "  y = column_or_1d(y, warn=True)\n"
     ]
    },
    {
     "name": "stdout",
     "output_type": "stream",
     "text": [
      "예측 정확도:  0.7987784187309128\n"
     ]
    }
   ],
   "source": [
    "ada_model = AdaBoostClassifier(random_state = 0,\n",
    "                               n_estimators = 80,\n",
    "                               learning_rate = 0.5)\n",
    "\n",
    "ada_model.fit(X_train, y_train)\n",
    "y_pred = ada_model.predict(X_test)\n",
    "\n",
    "print('예측 정확도: ', accuracy_score(y_test, y_pred))"
   ]
  },
  {
   "cell_type": "code",
   "execution_count": 26,
   "metadata": {},
   "outputs": [
    {
     "name": "stderr",
     "output_type": "stream",
     "text": [
      "C:\\Users\\i\\Anaconda3\\lib\\site-packages\\sklearn\\utils\\validation.py:578: DataConversionWarning: A column-vector y was passed when a 1d array was expected. Please change the shape of y to (n_samples, ), for example using ravel().\n",
      "  y = column_or_1d(y, warn=True)\n"
     ]
    },
    {
     "name": "stdout",
     "output_type": "stream",
     "text": [
      "예측 정확도:  0.7315914489311164\n"
     ]
    }
   ],
   "source": [
    "ada_model = AdaBoostClassifier(random_state = 0,\n",
    "                               n_estimators = 80,\n",
    "                               learning_rate = 0.45)\n",
    "\n",
    "ada_model.fit(X_train, y_train)\n",
    "y_pred = ada_model.predict(X_test)\n",
    "\n",
    "print('예측 정확도: ', accuracy_score(y_test, y_pred))\n",
    "\n",
    "# learning_rate = 0.2 : 바운더리가 너무 촘촘해져서 성능이 저하된다."
   ]
  },
  {
   "cell_type": "code",
   "execution_count": 27,
   "metadata": {},
   "outputs": [
    {
     "name": "stderr",
     "output_type": "stream",
     "text": [
      "C:\\Users\\i\\Anaconda3\\lib\\site-packages\\sklearn\\utils\\validation.py:578: DataConversionWarning: A column-vector y was passed when a 1d array was expected. Please change the shape of y to (n_samples, ), for example using ravel().\n",
      "  y = column_or_1d(y, warn=True)\n"
     ]
    },
    {
     "name": "stdout",
     "output_type": "stream",
     "text": [
      "예측 정확도:  0.7953851374278927\n"
     ]
    }
   ],
   "source": [
    "ada_model = AdaBoostClassifier(random_state = 0,\n",
    "                               n_estimators = 80,\n",
    "                               learning_rate = 0.55)\n",
    "\n",
    "ada_model.fit(X_train, y_train)\n",
    "y_pred = ada_model.predict(X_test)\n",
    "\n",
    "print('예측 정확도: ', accuracy_score(y_test, y_pred))\n",
    "\n",
    "# learning_rate = 0.2 : 바운더리가 너무 촘촘해져서 성능이 저하된다."
   ]
  },
  {
   "cell_type": "code",
   "execution_count": 31,
   "metadata": {},
   "outputs": [
    {
     "name": "stderr",
     "output_type": "stream",
     "text": [
      "C:\\Users\\i\\Anaconda3\\lib\\site-packages\\sklearn\\utils\\validation.py:578: DataConversionWarning: A column-vector y was passed when a 1d array was expected. Please change the shape of y to (n_samples, ), for example using ravel().\n",
      "  y = column_or_1d(y, warn=True)\n"
     ]
    },
    {
     "name": "stdout",
     "output_type": "stream",
     "text": [
      "예측 정확도:  0.8187987784187309\n"
     ]
    }
   ],
   "source": [
    "ada_model = AdaBoostClassifier(random_state = 0,\n",
    "                               n_estimators = 60,\n",
    "                               learning_rate = 0.4)\n",
    "\n",
    "ada_model.fit(X_train, y_train)\n",
    "y_pred = ada_model.predict(X_test)\n",
    "\n",
    "print('예측 정확도: ', accuracy_score(y_test, y_pred))\n"
   ]
  },
  {
   "cell_type": "markdown",
   "metadata": {},
   "source": [
    "### GBM"
   ]
  },
  {
   "cell_type": "code",
   "execution_count": 35,
   "metadata": {},
   "outputs": [],
   "source": [
    "from sklearn.ensemble import GradientBoostingClassifier\n",
    "import time"
   ]
  },
  {
   "cell_type": "code",
   "execution_count": 40,
   "metadata": {},
   "outputs": [
    {
     "name": "stderr",
     "output_type": "stream",
     "text": [
      "C:\\Users\\i\\Anaconda3\\lib\\site-packages\\sklearn\\utils\\validation.py:578: DataConversionWarning: A column-vector y was passed when a 1d array was expected. Please change the shape of y to (n_samples, ), for example using ravel().\n",
      "  y = column_or_1d(y, warn=True)\n"
     ]
    },
    {
     "name": "stdout",
     "output_type": "stream",
     "text": [
      "수행시간:  147.78168487548828\n"
     ]
    }
   ],
   "source": [
    "start_time = time.time()\n",
    "gbc_model = GradientBoostingClassifier(random_state=0)\n",
    "gbc_model.fit(X_train, y_train)\n",
    "y_pred = gbc_model.predict(X_test)\n",
    "\n",
    "print(\"수행시간: \", time.time()-start_time)"
   ]
  },
  {
   "cell_type": "code",
   "execution_count": 41,
   "metadata": {},
   "outputs": [
    {
     "name": "stdout",
     "output_type": "stream",
     "text": [
      "정확도:  0.9375636240244316\n"
     ]
    }
   ],
   "source": [
    "print('정확도: ', accuracy_score(y_test, y_pred))"
   ]
  },
  {
   "cell_type": "code",
   "execution_count": 45,
   "metadata": {
    "scrolled": true
   },
   "outputs": [
    {
     "name": "stderr",
     "output_type": "stream",
     "text": [
      "C:\\Users\\i\\Anaconda3\\lib\\site-packages\\sklearn\\utils\\validation.py:578: DataConversionWarning: A column-vector y was passed when a 1d array was expected. Please change the shape of y to (n_samples, ), for example using ravel().\n",
      "  y = column_or_1d(y, warn=True)\n"
     ]
    },
    {
     "name": "stdout",
     "output_type": "stream",
     "text": [
      "수행시간:  213.6451756954193\n",
      "정확도:  0.9385816084153377\n"
     ]
    }
   ],
   "source": [
    "# 하이퍼 파라미터 튜닝을 이용한 예측 정확도를 실습해보세요\n",
    "start_time=time.time()\n",
    "\n",
    "hyper_gbc_model = GradientBoostingClassifier(n_estimators=150, learning_rate=0.1, subsample=1)\n",
    "\n",
    "hyper_gbc_model.fit(X_train, y_train)\n",
    "h_pred = hyper_gbc_model.predict(X_test)\n",
    "\n",
    "print('수행시간: ', time.time() - start_time)\n",
    "print('정확도: ', accuracy_score(y_test, h_pred))"
   ]
  },
  {
   "cell_type": "code",
   "execution_count": 46,
   "metadata": {},
   "outputs": [
    {
     "name": "stderr",
     "output_type": "stream",
     "text": [
      "C:\\Users\\i\\Anaconda3\\lib\\site-packages\\sklearn\\utils\\validation.py:578: DataConversionWarning: A column-vector y was passed when a 1d array was expected. Please change the shape of y to (n_samples, ), for example using ravel().\n",
      "  y = column_or_1d(y, warn=True)\n"
     ]
    },
    {
     "name": "stdout",
     "output_type": "stream",
     "text": [
      "수행시간:  111.68026566505432\n",
      "정확도:  0.9406175771971497\n"
     ]
    }
   ],
   "source": [
    "# 하이퍼 파라미터 튜닝을 이용한 예측 정확도를 실습해보세요\n",
    "start_time=time.time()\n",
    "\n",
    "hyper_gbc_model = GradientBoostingClassifier(n_estimators=100, learning_rate=0.1, subsample=0.5)\n",
    "\n",
    "hyper_gbc_model.fit(X_train, y_train)\n",
    "h_pred = hyper_gbc_model.predict(X_test)\n",
    "\n",
    "print('수행시간: ', time.time() - start_time)\n",
    "print('정확도: ', accuracy_score(y_test, h_pred))"
   ]
  },
  {
   "cell_type": "code",
   "execution_count": 47,
   "metadata": {},
   "outputs": [
    {
     "name": "stderr",
     "output_type": "stream",
     "text": [
      "C:\\Users\\i\\Anaconda3\\lib\\site-packages\\sklearn\\utils\\validation.py:578: DataConversionWarning: A column-vector y was passed when a 1d array was expected. Please change the shape of y to (n_samples, ), for example using ravel().\n",
      "  y = column_or_1d(y, warn=True)\n"
     ]
    },
    {
     "name": "stdout",
     "output_type": "stream",
     "text": [
      "수행시간:  154.47244668006897\n",
      "정확도:  0.9375636240244316\n"
     ]
    }
   ],
   "source": [
    "# 하이퍼 파라미터 튜닝을 이용한 예측 정확도를 실습해보세요\n",
    "start_time=time.time()\n",
    "\n",
    "hyper_gbc_model = GradientBoostingClassifier(n_estimators=150, learning_rate=0.1, subsample=0.5)\n",
    "\n",
    "hyper_gbc_model.fit(X_train, y_train)\n",
    "h_pred = hyper_gbc_model.predict(X_test)\n",
    "\n",
    "print('수행시간: ', time.time() - start_time)\n",
    "print('정확도: ', accuracy_score(y_test, h_pred))"
   ]
  },
  {
   "cell_type": "code",
   "execution_count": 62,
   "metadata": {},
   "outputs": [],
   "source": [
    "def classifier_eval(y_test, y_pred) :\n",
    "    print('오차행렬: ', confusion_matrix(y_test, y_pred))\n",
    "    print('정확도: ', accuracy_score(y_test, y_pred))\n",
    "#     print('정밀도: ', precision_score(y_test, y_pred))\n",
    "#     print('재현율: ', recall_score(y_test, y_pred))\n",
    "#     print('F1 score: ', f1_score(y_test, y_pred))\n",
    "#     print('AUC: ', roc_auc_score(y_test, y_pred))"
   ]
  },
  {
   "cell_type": "code",
   "execution_count": 51,
   "metadata": {},
   "outputs": [],
   "source": [
    "from sklearn.model_selection import GridSearchCV"
   ]
  },
  {
   "cell_type": "code",
   "execution_count": 52,
   "metadata": {},
   "outputs": [
    {
     "name": "stderr",
     "output_type": "stream",
     "text": [
      "C:\\Users\\i\\Anaconda3\\lib\\site-packages\\sklearn\\utils\\validation.py:578: DataConversionWarning: A column-vector y was passed when a 1d array was expected. Please change the shape of y to (n_samples, ), for example using ravel().\n",
      "  y = column_or_1d(y, warn=True)\n",
      "C:\\Users\\i\\Anaconda3\\lib\\site-packages\\sklearn\\utils\\validation.py:578: DataConversionWarning: A column-vector y was passed when a 1d array was expected. Please change the shape of y to (n_samples, ), for example using ravel().\n",
      "  y = column_or_1d(y, warn=True)\n",
      "C:\\Users\\i\\Anaconda3\\lib\\site-packages\\sklearn\\utils\\validation.py:578: DataConversionWarning: A column-vector y was passed when a 1d array was expected. Please change the shape of y to (n_samples, ), for example using ravel().\n",
      "  y = column_or_1d(y, warn=True)\n",
      "C:\\Users\\i\\Anaconda3\\lib\\site-packages\\sklearn\\utils\\validation.py:578: DataConversionWarning: A column-vector y was passed when a 1d array was expected. Please change the shape of y to (n_samples, ), for example using ravel().\n",
      "  y = column_or_1d(y, warn=True)\n",
      "C:\\Users\\i\\Anaconda3\\lib\\site-packages\\sklearn\\utils\\validation.py:578: DataConversionWarning: A column-vector y was passed when a 1d array was expected. Please change the shape of y to (n_samples, ), for example using ravel().\n",
      "  y = column_or_1d(y, warn=True)\n",
      "C:\\Users\\i\\Anaconda3\\lib\\site-packages\\sklearn\\utils\\validation.py:578: DataConversionWarning: A column-vector y was passed when a 1d array was expected. Please change the shape of y to (n_samples, ), for example using ravel().\n",
      "  y = column_or_1d(y, warn=True)\n",
      "C:\\Users\\i\\Anaconda3\\lib\\site-packages\\sklearn\\utils\\validation.py:578: DataConversionWarning: A column-vector y was passed when a 1d array was expected. Please change the shape of y to (n_samples, ), for example using ravel().\n",
      "  y = column_or_1d(y, warn=True)\n"
     ]
    },
    {
     "name": "stdout",
     "output_type": "stream",
     "text": [
      "수행시간:  935.4336953163147\n",
      "최적의 하이퍼 파라미터:  {'learning_rate': 0.05, 'n_estimators': 200}\n",
      "예측정확도:  0.9007072905331882\n"
     ]
    }
   ],
   "source": [
    "\n",
    "start_time = time.time()\n",
    "gbc_model = GradientBoostingClassifier(random_state=0)\n",
    "params = {\n",
    "    'n_estimators':[200], \n",
    "    'learning_rate': [0.05, 0.1, 0.15]\n",
    "}\n",
    "gbc_gscv_model = GridSearchCV(gbc_model, param_grid= params, cv=2 )\n",
    "\n",
    "gbc_gscv_model.fit(X_train, y_train)\n",
    "\n",
    "print('수행시간: ', time.time() - start_time)\n",
    "print('최적의 하이퍼 파라미터: ', gbc_gscv_model.best_params_)\n",
    "print('예측정확도: ', gbc_gscv_model.best_score_)\n"
   ]
  },
  {
   "cell_type": "code",
   "execution_count": 63,
   "metadata": {},
   "outputs": [
    {
     "name": "stdout",
     "output_type": "stream",
     "text": [
      "오차행렬:  [[486   5   5   0   0   0]\n",
      " [ 25 439   6   1   0   0]\n",
      " [  7  27 385   0   1   0]\n",
      " [  0   2   0 417  72   0]\n",
      " [  0   0   0  33 499   0]\n",
      " [  0   0   0   0   0 537]]\n",
      "정확도:  0.9375636240244316\n"
     ]
    }
   ],
   "source": [
    "gscv_pred = gbc_gscv_model.best_estimator_.predict(X_test)\n",
    "classifier_eval(y_test, gscv_pred)"
   ]
  },
  {
   "cell_type": "code",
   "execution_count": 65,
   "metadata": {},
   "outputs": [
    {
     "name": "stderr",
     "output_type": "stream",
     "text": [
      "C:\\Users\\i\\Anaconda3\\lib\\site-packages\\sklearn\\utils\\validation.py:578: DataConversionWarning: A column-vector y was passed when a 1d array was expected. Please change the shape of y to (n_samples, ), for example using ravel().\n",
      "  y = column_or_1d(y, warn=True)\n"
     ]
    },
    {
     "name": "stdout",
     "output_type": "stream",
     "text": [
      "튜닝을 통한 예측 정확도 0.9375636240244316\n"
     ]
    }
   ],
   "source": [
    "# 최적의 하이퍼 파라미터를 이용하여 랜덤포레스트를 다시 학습시켜보세요\n",
    "\n",
    "hyper_gbc_model = GradientBoostingClassifier(learning_rate=0.05, n_estimators=200, random_state=0)\n",
    "\n",
    "hyper_gbc_model.fit(X_train, y_train)\n",
    "hyper_y_pred = hyper_gbc_model.predict(X_test)\n",
    "\n",
    "print('튜닝을 통한 예측 정확도', accuracy_score(y_test, hyper_y_pred))\n",
    "\n"
   ]
  },
  {
   "cell_type": "code",
   "execution_count": 66,
   "metadata": {},
   "outputs": [
    {
     "data": {
      "image/png": "[encoded data removed]",
      "text/plain": [
       "<Figure size 576x432 with 1 Axes>"
      ]
     },
     "metadata": {},
     "output_type": "display_data"
    }
   ],
   "source": [
    "# 각 피처의 중요도를 시각화\n",
    "\n",
    "ftr_importances_values = hyper_gbc_model.feature_importances_\n",
    "ftr_importances = pd.Series(ftr_importances_values, index = X_train.columns)\n",
    "ftr_top20 = ftr_importances.sort_values(ascending = False)[:20]\n",
    "\n",
    "plt.figure(figsize = (8, 6))\n",
    "plt.title('Top 20 feature importances')\n",
    "\n",
    "sns.barplot(x = ftr_top20, y = ftr_top20.index)\n",
    "plt.show()\n"
   ]
  },
  {
   "cell_type": "code",
   "execution_count": null,
   "metadata": {},
   "outputs": [],
   "source": []
  },
  {
   "cell_type": "code",
   "execution_count": null,
   "metadata": {},
   "outputs": [],
   "source": []
  }
 ],
 "metadata": {
  "kernelspec": {
   "display_name": "Python 3",
   "language": "python",
   "name": "python3"
  },
  "language_info": {
   "codemirror_mode": {
    "name": "ipython",
    "version": 3
   },
   "file_extension": ".py",
   "mimetype": "text/x-python",
   "name": "python",
   "nbconvert_exporter": "python",
   "pygments_lexer": "ipython3",
   "version": "3.6.5"
  }
 },
 "nbformat": 4,
 "nbformat_minor": 2
}
